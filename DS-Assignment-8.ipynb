{
 "cells": [
  {
   "cell_type": "markdown",
   "id": "d7344aff",
   "metadata": {},
   "source": [
    "#### Question 1\n",
    "Given the information you have received in the course about the Insertion sort algorithm, implement a function that uses it. The function needs only to accept the array to be sorted as parameter. The function returns nothing. The array is sorted in-place.\n",
    "\n",
    "For example given an array like: [6, 8, 5, 1, 2], the sorted array should be: [1, 2, 5, 6, 8]"
   ]
  },
  {
   "cell_type": "code",
   "execution_count": 1,
   "id": "2c496297-d06a-403b-a092-a7d8e3d31d94",
   "metadata": {},
   "outputs": [
    {
     "name": "stdout",
     "output_type": "stream",
     "text": [
      "[1, 2, 5, 6, 8]\n"
     ]
    }
   ],
   "source": [
    "def insertion_sort(array):\n",
    "    for i in range(1, len(array)):\n",
    "        key = array[i] \n",
    "        j = i - 1\n",
    "        while j >= 0 and array[j] > key:\n",
    "            array[j + 1] = array[j]\n",
    "            j -= 1\n",
    "            pass  \n",
    "        array[j + 1] = key\n",
    "\n",
    "array = [6, 8, 5, 1, 2]\n",
    "insertion_sort(array)\n",
    "print(array)  # Output: [1, 2, 5, 6, 8]\n"
   ]
  },
  {
   "cell_type": "code",
   "execution_count": null,
   "id": "48e5a8d8-d04b-4813-955d-3e5a699c6161",
   "metadata": {},
   "outputs": [],
   "source": []
  }
 ],
 "metadata": {
  "kernelspec": {
   "display_name": "Python 3 (ipykernel)",
   "language": "python",
   "name": "python3"
  },
  "language_info": {
   "codemirror_mode": {
    "name": "ipython",
    "version": 3
   },
   "file_extension": ".py",
   "mimetype": "text/x-python",
   "name": "python",
   "nbconvert_exporter": "python",
   "pygments_lexer": "ipython3",
   "version": "3.12.5"
  }
 },
 "nbformat": 4,
 "nbformat_minor": 5
}
